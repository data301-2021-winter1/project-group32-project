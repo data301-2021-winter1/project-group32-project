{
 "cells": [
  {
   "cell_type": "code",
   "execution_count": 10,
   "id": "c1830a8b-af78-4136-ad53-7c302f4db307",
   "metadata": {},
   "outputs": [],
   "source": [
    "import pandas as pd\n",
    "import numpy as np\n",
    "\n",
    "\n",
    "df = (\n",
    "    pd.read_csv('filing_counts.csv')   \n",
    "    .drop('for_total',axis=1)\n",
    "    .drop('case_action',axis=1)\n",
    "    .drop('year', axis=1)\n",
    "    .assign(state_agegroup=lambda x: x['age_group']+x['state'])\n",
    ")\n",
    "\n",
    "\n"
   ]
  },
  {
   "cell_type": "code",
   "execution_count": 13,
   "id": "b1eb7b43-d39a-47da-b1c2-bbcd82bcdb3c",
   "metadata": {},
   "outputs": [],
   "source": [
    "df.to_csv(\"CleanData1.csv\")\n"
   ]
  }
 ],
 "metadata": {
  "kernelspec": {
   "display_name": "Python 3 (ipykernel)",
   "language": "python",
   "name": "python3"
  },
  "language_info": {
   "codemirror_mode": {
    "name": "ipython",
    "version": 3
   },
   "file_extension": ".py",
   "mimetype": "text/x-python",
   "name": "python",
   "nbconvert_exporter": "python",
   "pygments_lexer": "ipython3",
   "version": "3.9.5"
  }
 },
 "nbformat": 4,
 "nbformat_minor": 5
}
