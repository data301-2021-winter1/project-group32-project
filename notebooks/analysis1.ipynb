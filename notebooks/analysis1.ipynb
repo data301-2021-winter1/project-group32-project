{
 "cells": [
  {
   "cell_type": "markdown",
   "id": "7f3e836f-7874-41dc-b02f-d5c85cb2e134",
   "metadata": {},
   "source": [
    "# Hannah Ludbrook"
   ]
  },
  {
   "cell_type": "markdown",
   "id": "851c101d-5760-4e6e-8953-58393578b614",
   "metadata": {
    "tags": []
   },
   "source": [
    "## Research question/interests\n",
    "What are the most common reasons for adult guardianship filings and how do these numbers vary for the states we have this data for? \n",
    "\n",
    "Look into why we only have this information for some states and why some states don't separate their adult and child case filings"
   ]
  },
  {
   "cell_type": "markdown",
   "id": "bfa57034-5c31-432e-9303-3150cd3631b2",
   "metadata": {},
   "source": [
    "## The dataset\n",
    "A dataset describing the adult guardianship filings in US courts"
   ]
  },
  {
   "cell_type": "code",
   "execution_count": 5,
   "id": "202a6245-16f1-49ef-94f0-708def8a4f03",
   "metadata": {},
   "outputs": [
    {
     "name": "stdout",
     "output_type": "stream",
     "text": [
      "         state  year         case_action          case_type      age_group  \\\n",
      "0       Alaska  2020           Ambiguous          G+C+Joint  Adults+Minors   \n",
      "1       Alaska  2019           Ambiguous          G+C+Joint  Adults+Minors   \n",
      "2       Alaska  2018           Ambiguous          G+C+Joint  Adults+Minors   \n",
      "3       Alaska  2017           Ambiguous          G+C+Joint  Adults+Minors   \n",
      "4      Arizona  2020           Ambiguous  Guardianship ONLY    Adults ONLY   \n",
      "..         ...   ...                 ...                ...            ...   \n",
      "375  Wisconsin  2020  Initiated+Reopened          G+C+Joint  Adults+Minors   \n",
      "376  Wisconsin  2019  Initiated+Reopened          G+C+Joint  Adults+Minors   \n",
      "377  Wisconsin  2018  Initiated+Reopened          G+C+Joint  Adults+Minors   \n",
      "378  Wisconsin  2017  Initiated+Reopened          G+C+Joint  Adults+Minors   \n",
      "379  Wisconsin  2016  Initiated+Reopened          G+C+Joint  Adults+Minors   \n",
      "\n",
      "     count for_total  \n",
      "0     1171         Y  \n",
      "1     1084         Y  \n",
      "2     1227         Y  \n",
      "3     1090         Y  \n",
      "4     2520         Y  \n",
      "..     ...       ...  \n",
      "375   5624         Y  \n",
      "376   6051         Y  \n",
      "377   6180         Y  \n",
      "378   6196         Y  \n",
      "379   6030         Y  \n",
      "\n",
      "[380 rows x 7 columns]\n",
      "<class 'pandas.core.frame.DataFrame'>\n",
      "RangeIndex: 380 entries, 0 to 379\n",
      "Data columns (total 7 columns):\n",
      " #   Column       Non-Null Count  Dtype \n",
      "---  ------       --------------  ----- \n",
      " 0   state        380 non-null    object\n",
      " 1   year         380 non-null    int64 \n",
      " 2   case_action  380 non-null    object\n",
      " 3   case_type    380 non-null    object\n",
      " 4   age_group    380 non-null    object\n",
      " 5   count        380 non-null    int64 \n",
      " 6   for_total    380 non-null    object\n",
      "dtypes: int64(2), object(5)\n",
      "memory usage: 20.9+ KB\n"
     ]
    }
   ],
   "source": [
    "#Import Libraries\n",
    "import pandas as pd\n",
    "import numpy as np\n",
    "import matplotlib\n",
    "import matplotlib.pyplot as plt\n",
    "import seaborn as sns#Understanding my variables \n",
    "\n",
    "%matplotlib inline\n",
    "\n",
    "df = pd.read_csv('filing_counts.csv')\n",
    "\n",
    "print(df)\n",
    "\n",
    "df.info()\n",
    "df.head()\n",
    "\n",
    "DeleteList=['for_total', 'case_action']\n",
    "df=df.drop(DeleteList, axis=1)\n",
    "\n"
   ]
  },
  {
   "cell_type": "code",
   "execution_count": 6,
   "id": "e6b90bf5-b69f-4637-90f1-212a7d75f1d8",
   "metadata": {},
   "outputs": [
    {
     "data": {
      "text/plain": [
       "Index(['state', 'year', 'case_type', 'age_group', 'count'], dtype='object')"
      ]
     },
     "execution_count": 6,
     "metadata": {},
     "output_type": "execute_result"
    }
   ],
   "source": [
    "df.columns"
   ]
  },
  {
   "cell_type": "code",
   "execution_count": 7,
   "id": "ea929c94-943e-46b0-9d60-862549db6f53",
   "metadata": {},
   "outputs": [
    {
     "data": {
      "text/plain": [
       "state         37\n",
       "year           6\n",
       "case_type      4\n",
       "age_group      4\n",
       "count        332\n",
       "dtype: int64"
      ]
     },
     "execution_count": 7,
     "metadata": {},
     "output_type": "execute_result"
    }
   ],
   "source": [
    "df.nunique(axis=0)"
   ]
  },
  {
   "cell_type": "code",
   "execution_count": 8,
   "id": "21fc241e-e5ac-4071-b62b-53685f97266a",
   "metadata": {},
   "outputs": [
    {
     "data": {
      "text/plain": [
       "array(['Adults+Minors', 'Adults ONLY', 'Minors ONLY', 'Ambiguous'],\n",
       "      dtype=object)"
      ]
     },
     "execution_count": 8,
     "metadata": {},
     "output_type": "execute_result"
    }
   ],
   "source": [
    "df.age_group.unique()"
   ]
  },
  {
   "cell_type": "code",
   "execution_count": 9,
   "id": "af2fd468-9043-42b6-8a1e-90baeb52f230",
   "metadata": {},
   "outputs": [
    {
     "name": "stdout",
     "output_type": "stream",
     "text": [
      "Preview of data:\n"
     ]
    },
    {
     "data": {
      "text/html": [
       "<div>\n",
       "<style scoped>\n",
       "    .dataframe tbody tr th:only-of-type {\n",
       "        vertical-align: middle;\n",
       "    }\n",
       "\n",
       "    .dataframe tbody tr th {\n",
       "        vertical-align: top;\n",
       "    }\n",
       "\n",
       "    .dataframe thead th {\n",
       "        text-align: right;\n",
       "    }\n",
       "</style>\n",
       "<table border=\"1\" class=\"dataframe\">\n",
       "  <thead>\n",
       "    <tr style=\"text-align: right;\">\n",
       "      <th></th>\n",
       "      <th>state</th>\n",
       "      <th>year</th>\n",
       "      <th>case_type</th>\n",
       "      <th>age_group</th>\n",
       "      <th>count</th>\n",
       "    </tr>\n",
       "  </thead>\n",
       "  <tbody>\n",
       "    <tr>\n",
       "      <th>0</th>\n",
       "      <td>Alaska</td>\n",
       "      <td>2020</td>\n",
       "      <td>G+C+Joint</td>\n",
       "      <td>Adults+Minors</td>\n",
       "      <td>1171</td>\n",
       "    </tr>\n",
       "    <tr>\n",
       "      <th>1</th>\n",
       "      <td>Alaska</td>\n",
       "      <td>2019</td>\n",
       "      <td>G+C+Joint</td>\n",
       "      <td>Adults+Minors</td>\n",
       "      <td>1084</td>\n",
       "    </tr>\n",
       "    <tr>\n",
       "      <th>2</th>\n",
       "      <td>Alaska</td>\n",
       "      <td>2018</td>\n",
       "      <td>G+C+Joint</td>\n",
       "      <td>Adults+Minors</td>\n",
       "      <td>1227</td>\n",
       "    </tr>\n",
       "  </tbody>\n",
       "</table>\n",
       "</div>"
      ],
      "text/plain": [
       "    state  year  case_type      age_group  count\n",
       "0  Alaska  2020  G+C+Joint  Adults+Minors   1171\n",
       "1  Alaska  2019  G+C+Joint  Adults+Minors   1084\n",
       "2  Alaska  2018  G+C+Joint  Adults+Minors   1227"
      ]
     },
     "metadata": {},
     "output_type": "display_data"
    },
    {
     "name": "stdout",
     "output_type": "stream",
     "text": [
      "\n",
      "To check: \n",
      " (1) Total number of entries \n",
      " (2) Column types \n",
      " (3) Any null values\n",
      "\n",
      "<class 'pandas.core.frame.DataFrame'>\n",
      "RangeIndex: 380 entries, 0 to 379\n",
      "Data columns (total 5 columns):\n",
      " #   Column     Non-Null Count  Dtype \n",
      "---  ------     --------------  ----- \n",
      " 0   state      380 non-null    object\n",
      " 1   year       380 non-null    int64 \n",
      " 2   case_type  380 non-null    object\n",
      " 3   age_group  380 non-null    object\n",
      " 4   count      380 non-null    int64 \n",
      "dtypes: int64(2), object(3)\n",
      "memory usage: 15.0+ KB\n",
      "None\n",
      "\n",
      "No duplicated entries found\n",
      "\n",
      "To check: \n",
      "Unique count of non-numeric data\n",
      "\n",
      "state        37\n",
      "case_type     4\n",
      "age_group     4\n",
      "dtype: int64\n",
      "Top 5 unique values of state\n",
      "            state  Count\n",
      "0      New Mexico     36\n",
      "1  North Carolina     30\n",
      "2        Colorado     30\n",
      "3        Michigan     24\n",
      "4           Idaho     18\n",
      " \n",
      "Top 5 unique values of case_type\n",
      "              case_type  Count\n",
      "0             G+C+Joint    132\n",
      "1     Guardianship ONLY    106\n",
      "2  Conservatorship ONLY     86\n",
      "3        Joint G/C ONLY     56\n",
      " \n",
      "Top 5 unique values of age_group\n",
      "       age_group  Count\n",
      "0    Adults ONLY    149\n",
      "1    Minors ONLY    118\n",
      "2  Adults+Minors    100\n",
      "3      Ambiguous     13\n",
      " \n",
      "\n",
      "To check: \n",
      "Distribution of numeric data\n"
     ]
    },
    {
     "data": {
      "text/html": [
       "<div>\n",
       "<style scoped>\n",
       "    .dataframe tbody tr th:only-of-type {\n",
       "        vertical-align: middle;\n",
       "    }\n",
       "\n",
       "    .dataframe tbody tr th {\n",
       "        vertical-align: top;\n",
       "    }\n",
       "\n",
       "    .dataframe thead th {\n",
       "        text-align: right;\n",
       "    }\n",
       "</style>\n",
       "<table border=\"1\" class=\"dataframe\">\n",
       "  <thead>\n",
       "    <tr style=\"text-align: right;\">\n",
       "      <th></th>\n",
       "      <th>count</th>\n",
       "      <th>mean</th>\n",
       "      <th>std</th>\n",
       "      <th>min</th>\n",
       "      <th>25%</th>\n",
       "      <th>50%</th>\n",
       "      <th>75%</th>\n",
       "      <th>max</th>\n",
       "    </tr>\n",
       "  </thead>\n",
       "  <tbody>\n",
       "    <tr>\n",
       "      <th>year</th>\n",
       "      <td>380.0</td>\n",
       "      <td>2018.418421</td>\n",
       "      <td>1.264985</td>\n",
       "      <td>2016.0</td>\n",
       "      <td>2017.75</td>\n",
       "      <td>2018.0</td>\n",
       "      <td>2019.0</td>\n",
       "      <td>2021.0</td>\n",
       "    </tr>\n",
       "    <tr>\n",
       "      <th>count</th>\n",
       "      <td>380.0</td>\n",
       "      <td>1817.150000</td>\n",
       "      <td>3525.655222</td>\n",
       "      <td>0.0</td>\n",
       "      <td>144.75</td>\n",
       "      <td>592.5</td>\n",
       "      <td>2097.0</td>\n",
       "      <td>28004.0</td>\n",
       "    </tr>\n",
       "  </tbody>\n",
       "</table>\n",
       "</div>"
      ],
      "text/plain": [
       "       count         mean          std     min      25%     50%     75%  \\\n",
       "year   380.0  2018.418421     1.264985  2016.0  2017.75  2018.0  2019.0   \n",
       "count  380.0  1817.150000  3525.655222     0.0   144.75   592.5  2097.0   \n",
       "\n",
       "           max  \n",
       "year    2021.0  \n",
       "count  28004.0  "
      ]
     },
     "metadata": {},
     "output_type": "display_data"
    },
    {
     "data": {
      "image/png": "[encoded data removed]",
      "text/plain": [
       "<Figure size 1440x720 with 2 Axes>"
      ]
     },
     "metadata": {
      "needs_background": "light"
     },
     "output_type": "display_data"
    },
    {
     "name": "stdout",
     "output_type": "stream",
     "text": [
      "\n",
      "To check pairwise joint distribution of numeric data\n"
     ]
    },
    {
     "data": {
      "image/png": "[encoded data removed]",
      "text/plain": [
       "<Figure size 360x360 with 6 Axes>"
      ]
     },
     "metadata": {
      "needs_background": "light"
     },
     "output_type": "display_data"
    },
    {
     "name": "stdout",
     "output_type": "stream",
     "text": [
      "\n",
      "To check time series of numeric data  by daily, monthly and yearly frequency\n"
     ]
    }
   ],
   "source": [
    "eda(df)"
   ]
  },
  {
   "cell_type": "code",
   "execution_count": 25,
   "id": "d2299d19-4348-41ea-823b-c3afb94c8376",
   "metadata": {},
   "outputs": [
    {
     "name": "stdout",
     "output_type": "stream",
     "text": [
      "As we can see many of the records include only minors and adults and minors meaning the states either dont keep record of adult guardianship or hold records of the adult and minor guardianships together\n"
     ]
    },
    {
     "data": {
      "image/png": "[encoded data removed]",
      "text/plain": [
       "<Figure size 432x288 with 1 Axes>"
      ]
     },
     "metadata": {
      "needs_background": "light"
     },
     "output_type": "display_data"
    }
   ],
   "source": [
    "sns.countplot(data = df, x = 'age_group')\n",
    "print(f'As we can see many of the records include only minors and adults and minors meaning the states either dont keep record of adult guardianship or hold records of the adult and minor guardianships together')"
   ]
  },
  {
   "cell_type": "code",
   "execution_count": 23,
   "id": "c357724a-4074-45b6-b125-1ac4727a36a2",
   "metadata": {},
   "outputs": [
    {
     "name": "stdout",
     "output_type": "stream",
     "text": [
      "As we can see states hold records differently so the most hold records of conservatorship and guardianship together\n"
     ]
    },
    {
     "data": {
      "image/png": "[encoded data removed]",
      "text/plain": [
       "<Figure size 432x288 with 1 Axes>"
      ]
     },
     "metadata": {
      "needs_background": "light"
     },
     "output_type": "display_data"
    }
   ],
   "source": [
    "sns.countplot(data = df, x= 'case_type')\n",
    "print(f'As we can see states hold records differently so the most hold records of conservatorship and guardianship together') "
   ]
  },
  {
   "cell_type": "code",
   "execution_count": 28,
   "id": "ff0a42af-0aed-4ae3-ba6f-234ee650f4e8",
   "metadata": {},
   "outputs": [
    {
     "name": "stdout",
     "output_type": "stream",
     "text": [
      "this figure shows the four different kinds of court rulings on the x axis, and the 50 states on the y axis, this data helps me see how each state holds their records\n"
     ]
    },
    {
     "data": {
      "image/png": "[encoded data removed]",
      "text/plain": [
       "<Figure size 432x288 with 1 Axes>"
      ]
     },
     "metadata": {
      "needs_background": "light"
     },
     "output_type": "display_data"
    }
   ],
   "source": [
    "df.plot(kind='scatter', x='case_type', y='state')\n",
    "print('this figure shows the four different kinds of court rulings on the x axis, and the 50 states on the y axis, this data helps me see how each state holds their records') "
   ]
  },
  {
   "cell_type": "code",
   "execution_count": 30,
   "id": "e335f1c7-fdb8-4e2a-82d8-6944a276111d",
   "metadata": {},
   "outputs": [
    {
     "name": "stdout",
     "output_type": "stream",
     "text": [
      "this scatter plot shows the four different kinds of age groups on the x axis, and the 50 states on the y axis.This helps me to see how each state holds their records for guardianship and conservatorship\n"
     ]
    },
    {
     "data": {
      "image/png": "[encoded data removed]",
      "text/plain": [
       "<Figure size 432x288 with 1 Axes>"
      ]
     },
     "metadata": {
      "needs_background": "light"
     },
     "output_type": "display_data"
    }
   ],
   "source": [
    "df.plot(kind='scatter', x='age_group', y='state')\n",
    "print('this scatter plot shows the four different kinds of age groups on the x axis, and the 50 states on the y axis.This helps me to see how each state holds their records for guardianship and conservatorship') "
   ]
  },
  {
   "cell_type": "code",
   "execution_count": 2,
   "id": "e3860c0a-9c97-4873-b656-aa1f25394ed2",
   "metadata": {},
   "outputs": [],
   "source": [
    "import pandas as pd\n",
    "import numpy as np\n",
    "import matplotlib\n",
    "import matplotlib.pyplot as plt\n",
    "import seaborn as sns\n",
    "import warnings\n",
    "warnings.filterwarnings(\"ignore\")\n",
    "%matplotlib inline\n",
    "\n",
    "        \n",
    "def time_series_plot(df):\n",
    "    \"\"\"Given dataframe, generate times series plot of numeric data by daily, monthly and yearly frequency\"\"\"\n",
    "    print(\"\\nTo check time series of numeric data  by daily, monthly and yearly frequency\")\n",
    "    if len(df.select_dtypes(include='datetime64').columns)>0:\n",
    "        for col in df.select_dtypes(include='datetime64').columns:\n",
    "            for p in ['D', 'M', 'Y']:\n",
    "                if p=='D':\n",
    "                    print(\"Plotting daily data\")\n",
    "                elif p=='M':\n",
    "                    print(\"Plotting monthly data\")\n",
    "                else:\n",
    "                    print(\"Plotting yearly data\")\n",
    "                for col_num in df.select_dtypes(include=np.number).columns:\n",
    "                    __ = df.copy()\n",
    "                    __ = __.set_index(col)\n",
    "                    __T = __.resample(p).sum()\n",
    "                    ax = __T[[col_num]].plot()\n",
    "                    ax.set_ylim(bottom=0)\n",
    "                    ax.get_yaxis().set_major_formatter(\n",
    "                    matplotlib.ticker.FuncFormatter(lambda x, p: format(int(x), ',')))\n",
    "                    plt.show()\n",
    "\n",
    "                    \n",
    "def numeric_eda(df, hue=None):\n",
    "    \"\"\"Given dataframe, generate EDA of numeric data\"\"\"\n",
    "    print(\"\\nTo check: \\nDistribution of numeric data\")\n",
    "    display(df.describe().T)\n",
    "    columns = df.select_dtypes(include=np.number).columns\n",
    "    figure = plt.figure(figsize=(20, 10))\n",
    "    figure.add_subplot(1, len(columns), 1)\n",
    "    for index, col in enumerate(columns):\n",
    "        if index > 0:\n",
    "            figure.add_subplot(1, len(columns), index + 1)\n",
    "        sns.boxplot(y=col, data=df, boxprops={'facecolor': 'None'})\n",
    "    figure.tight_layout()\n",
    "    plt.show()\n",
    "    \n",
    "    if len(df.select_dtypes(include='category').columns) > 0:\n",
    "        for col_num in df.select_dtypes(include=np.number).columns:\n",
    "            for col in df.select_dtypes(include='category').columns:\n",
    "                fig = sns.catplot(x=col, y=col_num, kind='violin', data=df, height=5, aspect=2)\n",
    "                fig.set_xticklabels(rotation=90)\n",
    "                plt.show()\n",
    "    \n",
    "    # Plot the pairwise joint distributions\n",
    "    print(\"\\nTo check pairwise joint distribution of numeric data\")\n",
    "    if hue==None:\n",
    "        sns.pairplot(df.select_dtypes(include=np.number))\n",
    "    else:\n",
    "        sns.pairplot(df.select_dtypes(include=np.number).join(df[[hue]]), hue=hue)\n",
    "    plt.show()\n",
    "\n",
    "\n",
    "def top5(df):\n",
    "    \"\"\"Given dataframe, generate top 5 unique values for non-numeric data\"\"\"\n",
    "    columns = df.select_dtypes(include=['object', 'category']).columns\n",
    "    for col in columns:\n",
    "        print(\"Top 5 unique values of \" + col)\n",
    "        print(df[col].value_counts().reset_index().rename(columns={\"index\": col, col: \"Count\"})[\n",
    "              :min(5, len(df[col].value_counts()))])\n",
    "        print(\" \")\n",
    "    \n",
    "    \n",
    "def categorical_eda(df, hue=None):\n",
    "    \"\"\"Given dataframe, generate EDA of categorical data\"\"\"\n",
    "    print(\"\\nTo check: \\nUnique count of non-numeric data\\n\")\n",
    "    print(df.select_dtypes(include=['object', 'category']).nunique())\n",
    "    top5(df)\n",
    "    # Plot count distribution of categorical data\n",
    "    for col in df.select_dtypes(include='category').columns:\n",
    "        fig = sns.catplot(x=col, kind=\"count\", data=df, hue=hue)\n",
    "        fig.set_xticklabels(rotation=90)\n",
    "        plt.show()\n",
    "    \n",
    "\n",
    "def eda(df):\n",
    "    \"\"\"Given dataframe, generate exploratory data analysis\"\"\"\n",
    "    # check that input is pandas dataframe\n",
    "    if type(df) != pd.core.frame.DataFrame:\n",
    "        raise TypeError(\"Only pandas dataframe is allowed as input\")\n",
    "        \n",
    "    # replace field that's entirely space (or empty) with NaN\n",
    "    df = df.replace(r'^\\s*$', np.nan, regex=True)\n",
    "\n",
    "    print(\"Preview of data:\")\n",
    "    display(df.head(3))\n",
    "\n",
    "    print(\"\\nTo check: \\n (1) Total number of entries \\n (2) Column types \\n (3) Any null values\\n\")\n",
    "    print(df.info())\n",
    "\n",
    "    # generate preview of entries with null values\n",
    "    if df.isnull().any(axis=None):\n",
    "        print(\"\\nPreview of data with null values:\")\n",
    "        display(df[df.isnull().any(axis=1)].head(3))\n",
    "        missingno.matrix(df)\n",
    "        plt.show()\n",
    "\n",
    "    # generate count statistics of duplicate entries\n",
    "    if len(df[df.duplicated()]) > 0:\n",
    "        print(\"\\n***Number of duplicated entries: \", len(df[df.duplicated()]))\n",
    "        display(df[df.duplicated(keep=False)].sort_values(by=list(df.columns)).head())\n",
    "    else:\n",
    "        print(\"\\nNo duplicated entries found\")\n",
    "\n",
    "    # EDA of categorical data\n",
    "    categorical_eda(df)\n",
    "    \n",
    "    # EDA of numeric data\n",
    "    numeric_eda(df)\n",
    "        \n",
    "    # Plot time series plot of numeric data\n",
    "    time_series_plot(df)\n",
    "    "
   ]
  },
  {
   "cell_type": "code",
   "execution_count": 33,
   "id": "1560f90f-c721-4187-aefd-9d26e534ae58",
   "metadata": {},
   "outputs": [],
   "source": [
    "def categorical_eda(df):\n",
    "    \"\"\"Given dataframe, generate EDA of categorical data\"\"\"\n",
    "    print(\"To check: Unique count of non-numeric data\")\n",
    "    print(df.select_dtypes(include=['category']).nunique())\n",
    "    top5(df)\n",
    "    # Plot count distribution of categorical data\n",
    "    for col in df.select_dtypes(include='category').columns:\n",
    "        fig = sns.catplot(x=col, kind=\"count\", data=df)\n",
    "        fig.set_xticklabels(rotation=90)\n",
    "        plt.show()"
   ]
  },
  {
   "cell_type": "code",
   "execution_count": 33,
   "id": "81192e46-791a-45a3-be66-e9580e93e893",
   "metadata": {},
   "outputs": [],
   "source": []
  },
  {
   "cell_type": "markdown",
   "id": "ba318d36-e824-4d73-9320-87ecc92faafd",
   "metadata": {},
   "source": []
  },
  {
   "cell_type": "code",
   "execution_count": null,
   "id": "a202d5e9-3430-4a43-ba8b-0a494e665fb7",
   "metadata": {},
   "outputs": [],
   "source": []
  },
  {
   "cell_type": "code",
   "execution_count": null,
   "id": "ab43c53b-6d14-458c-bd51-d1b37df43c10",
   "metadata": {},
   "outputs": [],
   "source": []
  }
 ],
 "metadata": {
  "kernelspec": {
   "display_name": "Python 3 (ipykernel)",
   "language": "python",
   "name": "python3"
  },
  "language_info": {
   "codemirror_mode": {
    "name": "ipython",
    "version": 3
   },
   "file_extension": ".py",
   "mimetype": "text/x-python",
   "name": "python",
   "nbconvert_exporter": "python",
   "pygments_lexer": "ipython3",
   "version": "3.9.5"
  }
 },
 "nbformat": 4,
 "nbformat_minor": 5
}
