{
 "cells": [
  {
   "cell_type": "markdown",
<<<<<<< HEAD
   "metadata": {
    "tags": []
   },
   "source": [
    "# Your Name Here"
=======
   "metadata": {},
   "source": [
    "Megan Stanwood"
>>>>>>> b50288abc1e12325c35f00d9c2323c59632ea659
   ]
  },
  {
   "cell_type": "markdown",
   "metadata": {},
   "source": [
<<<<<<< HEAD
    "## Research question/interests\r\n",
    "\r\n",
    "Briefly describe your research question or interests here."
=======
    "## Research question/interests\n",
    "I am interested in the frequency of guardianships and conservatorships in the United States. I'm also interested in the progression of guardianships/conservatorships and the ethics involved."
>>>>>>> b50288abc1e12325c35f00d9c2323c59632ea659
   ]
  }
 ],
 "metadata": {
  "kernelspec": {
   "display_name": "Python 3 (ipykernel)",
   "language": "python",
   "name": "python3"
  },
  "language_info": {
   "codemirror_mode": {
    "name": "ipython",
    "version": 3
   },
   "file_extension": ".py",
   "mimetype": "text/x-python",
   "name": "python",
   "nbconvert_exporter": "python",
   "pygments_lexer": "ipython3",
   "version": "3.9.5"
  }
 },
 "nbformat": 4,
 "nbformat_minor": 4
}
