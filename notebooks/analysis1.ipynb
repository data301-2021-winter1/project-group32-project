{
 "cells": [
  {
   "cell_type": "markdown",
   "id": "7f3e836f-7874-41dc-b02f-d5c85cb2e134",
   "metadata": {},
   "source": [
    "# Hannah Ludbrook"
   ]
  },
  {
   "cell_type": "markdown",
   "id": "851c101d-5760-4e6e-8953-58393578b614",
   "metadata": {
    "tags": []
   },
   "source": [
    "# Research question/interests\n",
    "# Analysis Question 1:\n",
    "## Why is there such a variation in the way data is collected for guardianship filings in the United States?\n",
    "\n",
    "### Look into why we only have this information for some states and why some states don't separate their adult and child case filings"
   ]
  },
  {
   "cell_type": "markdown",
   "id": "bfa57034-5c31-432e-9303-3150cd3631b2",
   "metadata": {},
   "source": [
    "## The dataset\n",
    "A dataset describing the adult guardianship filings in US courts"
   ]
  },
  {
   "cell_type": "code",
   "execution_count": 1,
   "id": "202a6245-16f1-49ef-94f0-708def8a4f03",
   "metadata": {},
   "outputs": [],
   "source": [
    "#Import Libraries\n",
    "import pandas as pd\n",
    "import numpy as np\n",
    "import matplotlib\n",
    "import matplotlib.pyplot as plt\n",
    "import seaborn as sns#Understanding my variables \n",
    "\n",
    "%matplotlib inline\n",
    "\n",
    "df = pd.read_csv('filing_counts.csv')\n",
    "\n",
    "# set identifier \"case_type\" as string\n",
    "df[\"case_type\"] = df[\"case_type\"].astype(\"str\")\n",
    "\n",
    "#Remove columns that I dont need\n",
    "DeleteList=['for_total', 'case_action', 'year']\n",
    "df=df.drop(DeleteList, axis=1)\n",
    "\n",
    "# set categorial data\n",
    "df[\"case_type\"] = df [\"case_type\"].astype(\"category\")\n",
    "df[\"age_group\"] = df [\"age_group\"].astype(\"category\")\n",
    "df[\"state\"] = df [\"state\"].astype(\"category\")\n",
    "\n",
    "df.drop_duplicates(inplace=True)"
   ]
  },
  {
   "cell_type": "code",
   "execution_count": 2,
   "id": "af2fd468-9043-42b6-8a1e-90baeb52f230",
   "metadata": {},
   "outputs": [
    {
     "ename": "NameError",
     "evalue": "name 'eda' is not defined",
     "output_type": "error",
     "traceback": [
      "\u001b[1;31m---------------------------------------------------------------------------\u001b[0m",
      "\u001b[1;31mNameError\u001b[0m                                 Traceback (most recent call last)",
      "\u001b[1;32m~\\AppData\\Local\\Temp/ipykernel_19708/2070853847.py\u001b[0m in \u001b[0;36m<module>\u001b[1;34m\u001b[0m\n\u001b[0;32m      1\u001b[0m \u001b[1;31m# Display data in different graphs and figures\u001b[0m\u001b[1;33m\u001b[0m\u001b[1;33m\u001b[0m\u001b[1;33m\u001b[0m\u001b[0m\n\u001b[1;32m----> 2\u001b[1;33m \u001b[0meda\u001b[0m\u001b[1;33m(\u001b[0m\u001b[0mdf\u001b[0m\u001b[1;33m)\u001b[0m\u001b[1;33m\u001b[0m\u001b[1;33m\u001b[0m\u001b[0m\n\u001b[0m\u001b[0;32m      3\u001b[0m \u001b[0meda2\u001b[0m\u001b[1;33m(\u001b[0m\u001b[0mdf\u001b[0m\u001b[1;33m)\u001b[0m\u001b[1;33m\u001b[0m\u001b[1;33m\u001b[0m\u001b[0m\n",
      "\u001b[1;31mNameError\u001b[0m: name 'eda' is not defined"
     ]
    }
   ],
   "source": [
    "# Display data in different graphs and figures\n",
    "eda(df)\n",
    "eda2(df)"
   ]
  },
  {
   "cell_type": "markdown",
   "id": "e2d75c9c-88fa-44b2-aa9e-d3d78e64012d",
   "metadata": {},
   "source": [
    "The information we gathered was courtesy of buzzfeed who utilized court documents, mental health filings and financial records, guardianship cases and gathered data from public records to create their dataset and article about guardianship in USA. As of now there is no federal standard for tracking adult guardianship cases and there for the state systems are very scattered and not sorted in the same way. This makes drawing conclusions about the guardianship system in the country overall very difficult. Buzzfeed was able to compile exstensive data which I was able to further manipulate in order to explore the variation of the data collection in different states. \n",
    "\n",
    "As I went into my EDA I experiemented with a few different data visulizations to get the information I needed. I knew the 3 columns that would be of most help to me would be age_group, case_type and state because they would be able to show me the variation in record keeping in different states. I created a countplot that showed the case counts for the four different age groups in the study, this showed that although the highest count was adults only (which is what the Buzzfeed study was seeking out) alot of cases were held only in files of adults and minors combined making it even more difficult to analyze the data. I also created a countplot to show the case types and their numbers and there was also a large variation here as a lot of states hold cases of guardianship and conservatorship together. I then created a scatter plot graph to show how each state held their records for age groups and some held seperate record for adults and minors, some held the records seperate and some had only ambiguous records that didnt make any differentiation in the age groups.\n",
    "\n",
    "My data figures proved that the variation in record keeping did exist so then I went and looked into some more research in this topic to see why this was the case and the impact that it had. Based on the articles I read I discovered that many guardianship cases taken to court are included in a more genaric case type group and there for cannot be distinguished as adult cases and child cases. This variation of data makes it very difficult to understand the trends of guardianship, although some research suggests that the number of adults under guardianship is growing there is no way to know for sure because of the discrepencies in record keeping. This is a huge issue because there are many cases of negelect and mistreatment of adults under guardianship but we have no way of tracking this if we dont have accurate record keeping. \n",
    "\n",
    "The variation in state data is the result of not having a standardized system of adult guardianship cases that enter and exit the courts. As states hold their records differently it is extremely difficult to draw conclusions on the data. This leaves room for abuse and neglect to those under guardianship with very little consequences to the guardians.\n"
   ]
  },
  {
   "cell_type": "code",
   "execution_count": null,
   "id": "81192e46-791a-45a3-be66-e9580e93e893",
   "metadata": {},
   "outputs": [],
   "source": [
    "import pandas as pd\n",
    "import numpy as np\n",
    "\n",
    "\n",
    "df = (\n",
    "    pd.read_csv('filing_counts.csv')   \n",
    "    .drop('for_total',axis=1)\n",
    "    .drop('case_action',axis=1)\n",
    "    .drop('year', axis=1)\n",
    "    .assign(state_agegroup=lambda x: x['age_group']+x['state'])\n",
    "    df[\"case_type\"].astype(\"category\")\n",
    "    df [\"age_group\"].astype(\"category\")\n",
    "    df [\"state\"].astype(\"category\")\n",
    ")\n",
    "\n",
    "\n",
    "\n"
   ]
  },
  {
   "cell_type": "code",
   "execution_count": null,
   "id": "ab43c53b-6d14-458c-bd51-d1b37df43c10",
   "metadata": {},
   "outputs": [],
   "source": [
    "def top5(df):\n",
    "    \"\"\"Given dataframe, generate top 5 unique values for non-numeric data\"\"\"\n",
    "    columns = df.select_dtypes(include=['object', 'category']).columns\n",
    "    for col in columns:\n",
    "        print(\"Top 5 unique values of \" + col)\n",
    "        print(df[col].value_counts().reset_index().rename(columns={\"index\": col, col: \"Count\"})[\n",
    "              :min(5, len(df[col].value_counts()))])\n",
    "        print(\" \")\n",
    "\n",
    "    \n",
    "def categorical_eda(df, hue=None):\n",
    "    \"\"\"Given dataframe, generate EDA of categorical data\"\"\"\n",
    "    print(\"\\nTo check: \\nUnique count of non-numeric data\\n\")\n",
    "    print(df.select_dtypes(include=['object', 'category']).nunique())\n",
    "    top5(df)\n",
    "    # Plot count distribution of categorical data\n",
    "    print(\"These first 3 graphs show the distribution of cases per state, how these cases are split into case type and then how the count is split into age group. This is a good start for my analysis because it shows the simple distribution of categorial data that I want to take a deeper dive into. Moving forward I am going to focus on age group but these plots give me a better understanding of the categorial data as a whole.\")\n",
    "    for col in df.select_dtypes(include='category').columns:\n",
    "        fig = sns.catplot(x=col, kind=\"count\", data=df, hue=hue)\n",
    "        fig.set_xticklabels(rotation=90)\n",
    "        plt.show()\n",
    "    \n",
    "def eda(df):\n",
    "    \"\"\"Given dataframe, generate exploratory data analysis\"\"\"\n",
    "    # check that input is pandas dataframe\n",
    "    if type(df) != pd.core.frame.DataFrame:\n",
    "        raise TypeError(\"Only pandas dataframe is allowed as input\")\n",
    "        \n",
    "    # replace field that's entirely space (or empty) with NaN\n",
    "    df = df.replace(r'^\\s*$', np.nan, regex=True)\n",
    "\n",
    "    print(\"Preview of data:\")\n",
    "    display(df.head(3))\n",
    "\n",
    "    print(\"\\nTo check: \\n (1) Total number of entries \\n (2) Column types \\n (3) Any null values\\n\")\n",
    "    print(df.info())\n",
    "\n",
    "    # generate preview of entries with null values\n",
    "    if df.isnull().any(axis=None):\n",
    "        print(\"\\nPreview of data with null values:\")\n",
    "        display(df[df.isnull().any(axis=1)].head(3))\n",
    "        missingno.matrix(df)\n",
    "        plt.show()\n",
    "\n",
    "    # generate count statistics of duplicate entries\n",
    "    if len(df[df.duplicated()]) > 0:\n",
    "        print(\"\\n***Number of duplicated entries: \", len(df[df.duplicated()]))\n",
    "        display(df[df.duplicated(keep=False)].sort_values(by=list(df.columns)).head())\n",
    "    else:\n",
    "        print(\"\\nNo duplicated entries found\")\n",
    "    \n",
    "    #EDA of categorical data\n",
    "    categorical_eda(df)\n",
    "    \n",
    "  \n",
    "\n",
    "    # generate scatterplot\n",
    "    print(\"This scatterplot shows the distribution of how cases are recorded by age type in each state, there is a lot of discrepancies on how cases are recorded. Some states are all over the place and record cases in 3 age, some just record Adults and Minors together and some do a better job at splitting the age groups up based on the cases. I would like to explore this information more in each state to see the discrepencies closer up\")\n",
    "    df.plot(kind=\"scatter\", x=\"age_group\", y=\"state\", figsize=(8,8))\n",
    "    #add title \n",
    "    plt.title(\"Case Type Distribution in different states\")\n",
    "    \n",
    "   \n",
    "\n",
    "    \n",
    "    \n",
    "\n",
    "    \n",
    "\n",
    "\n",
    "\n",
    "    \n",
    "   "
   ]
  },
  {
   "cell_type": "code",
   "execution_count": null,
   "id": "97a7b4c8-8f49-4c24-b5c2-d3646c479fc6",
   "metadata": {},
   "outputs": [],
   "source": [
    "\n",
    " def eda2(df):\n",
    "   #Create Graphs for each state\n",
    "    boxplot = sns.catplot(x=\"age_group\", col=\"state\", col_wrap=6, \n",
    "            data=df[df.age_group.notnull()], \n",
    "            kind=\"count\", height=2, aspect=1)\n",
    "    #Resize x labels\n",
    "    for ax in boxplot.axes:\n",
    "        plt.setp(ax.get_xticklabels(), visible=True, rotation=75)\n",
    "     #remove axis title\n",
    "    boxplot.set_titles(template=\"{col_name}\")\n",
    "    \n",
    "    eda2(df)\n",
    "    print(\"In the graphs below I was able to split the information about how many cases are recorded in different age groups showing the different counts for each state. This allows me to split up the information and draw conclusions on how different states record different cases. Most states choose to record by either completely splitting up the Minor and Adult cases or keeping them all together in the Minors and Adults column or the ambiguous column. A few states have numbers in all categories indicating that they may hold their cases differently for guardianship and conservatorship cases. These graphs show us how differently states file their cases.\")\n",
    "\n",
    "    \n",
    "\n"
   ]
  },
  {
   "cell_type": "code",
   "execution_count": null,
   "id": "e7be1ca1-849d-406f-bec2-f03ffedad25c",
   "metadata": {},
   "outputs": [],
   "source": []
  }
 ],
 "metadata": {
  "kernelspec": {
   "display_name": "Python 3 (ipykernel)",
   "language": "python",
   "name": "python3"
  },
  "language_info": {
   "codemirror_mode": {
    "name": "ipython",
    "version": 3
   },
   "file_extension": ".py",
   "mimetype": "text/x-python",
   "name": "python",
   "nbconvert_exporter": "python",
   "pygments_lexer": "ipython3",
   "version": "3.9.5"
  }
 },
 "nbformat": 4,
 "nbformat_minor": 5
}
