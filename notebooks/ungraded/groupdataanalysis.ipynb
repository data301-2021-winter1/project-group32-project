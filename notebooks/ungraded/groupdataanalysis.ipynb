{
 "cells": [
  {
   "cell_type": "markdown",
   "id": "69624a89-23ec-4296-801c-f69c4e93a4b7",
   "metadata": {},
   "source": [
    "# Analysis Question 1: (Hannah Ludbrook)\n",
    "## Why is there such a variation in the way data is collected for guardianship filings in the United States?\n",
    "\n",
    "### Look into why we only have this information for some states and why some states don't separate their adult and child case filings and the impact that this has"
   ]
  },
  {
   "cell_type": "markdown",
   "id": "85d21357-db5f-47d8-babd-17ee509f9cf2",
   "metadata": {},
   "source": [
    "The information we gathered was courtesy of buzzfeed who utilized court documents, mental health filings and financial records, guardianship cases and gathered data from public records to create their dataset and article about guardianship in USA. As of now there is no federal standard for tracking adult guardianship cases and there for the state systems are very scattered and not sorted in the same way. This makes drawing conclusions about the guardianship system in the country overall very difficult. Buzzfeed was able to compile exstensive data which I was able to further manipulate in order to explore the variation of the data collection in different states. \n",
    "\n",
    "As I went into my EDA I experiemented with a few different data visulizations to get the information I needed. I knew the 3 columns that would be of most help to me would be age_group, case_type and state because they would be able to show me the variation in record keeping in different states. I created a countplot that showed the case counts for the four different age groups in the study, this showed that although the highest count was adults only (which is what the Buzzfeed study was seeking out) alot of cases were held only in files of adults and minors combined making it even more difficult to analyze the data. I also created a countplot to show the case types and their numbers and there was also a large variation here as a lot of states hold cases of guardianship and conservatorship together. I then created a scatter plot graph to show how each state held their records for age groups and some held seperate record for adults and minors, some held the records seperate and some had only ambiguous records that didnt make any differentiation in the age groups.\n",
    "\n",
    "My data figures proved that the variation in record keeping did exist so then I went and looked into some more research in this topic to see why this was the case and the impact that it had. Based on the articles I read I discovered that many guardianship cases taken to court are included in a more genaric case type group and there for cannot be distinguished as adult cases and child cases. This variation of data makes it very difficult to understand the trends of guardianship, although some research suggests that the number of adults under guardianship is growing there is no way to know for sure because of the discrepencies in record keeping. This is a huge issue because there are many cases of negelect and mistreatment of adults under guardianship but we have no way of tracking this if we dont have accurate record keeping. \n",
    "\n",
    "The variation in state data is the result of not having a standardized system of adult guardianship cases that enter and exit the courts. As states hold their records differently it is extremely difficult to draw conclusions on the data. This leaves room for abuse and neglect to those under guardianship with very little consequences to the guardians.\n"
   ]
  },
  {
   "cell_type": "markdown",
   "id": "f50ac9c5-49b0-47d9-bcb4-43b2cc98f8e8",
   "metadata": {},
   "source": [
    "## Sources\n",
    "https://www.documentcloud.org/documents/21063851-beyond-gardianship#document/p67/a2054795,\n",
    "https://www.buzzfeednews.com/article/heidiblake/conservatorship-investigation-free-britney-spears\n"
   ]
  },
  {
   "cell_type": "code",
   "execution_count": null,
   "id": "413d8b4f-9de7-454f-832a-f55c3c93efed",
   "metadata": {},
   "outputs": [],
   "source": []
  }
 ],
 "metadata": {
  "kernelspec": {
   "display_name": "Python 3 (ipykernel)",
   "language": "python",
   "name": "python3"
  },
  "language_info": {
   "codemirror_mode": {
    "name": "ipython",
    "version": 3
   },
   "file_extension": ".py",
   "mimetype": "text/x-python",
   "name": "python",
   "nbconvert_exporter": "python",
   "pygments_lexer": "ipython3",
   "version": "3.9.5"
  }
 },
 "nbformat": 4,
 "nbformat_minor": 5
}
