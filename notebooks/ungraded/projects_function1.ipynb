{
 "cells": [
  {
   "cell_type": "code",
   "execution_count": 9,
   "id": "adae7a32-8082-4c22-aa75-a4a0474cb541",
   "metadata": {},
   "outputs": [],
   "source": [
    "import pandas as pd\n",
    "def load_and_process(filing_counts):\n",
    "    df = (\n",
    "    pd.read_csv('filing_counts.csv')   \n",
    "    .drop('for_total',axis=1)\n",
    "    .drop('case_action',axis=1)\n",
    "    .assign(state_agegroup=lambda x: x['age_group']+x['state'])\n",
    ")\n",
    "\n",
    "    return df\n"
   ]
  },
  {
   "cell_type": "code",
   "execution_count": null,
   "id": "1ea63e0f-72db-489c-88bc-f161a0989c84",
   "metadata": {},
   "outputs": [],
   "source": []
  }
 ],
 "metadata": {
  "kernelspec": {
   "display_name": "Python 3 (ipykernel)",
   "language": "python",
   "name": "python3"
  },
  "language_info": {
   "codemirror_mode": {
    "name": "ipython",
    "version": 3
   },
   "file_extension": ".py",
   "mimetype": "text/x-python",
   "name": "python",
   "nbconvert_exporter": "python",
   "pygments_lexer": "ipython3",
   "version": "3.9.5"
  }
 },
 "nbformat": 4,
 "nbformat_minor": 5
}
