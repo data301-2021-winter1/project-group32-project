{
 "cells": [
  {
   "cell_type": "code",
   "execution_count": null,
   "id": "5a20ff01-be3e-4015-84be-c8c63a80beb4",
   "metadata": {},
   "outputs": [],
   "source": []
  },
  {
   "cell_type": "code",
   "execution_count": 20,
   "id": "042f76e9-c507-4cbb-a671-2a10a5a586b5",
   "metadata": {},
   "outputs": [
    {
     "data": {
      "text/html": [
       "<div>\n",
       "<style scoped>\n",
       "    .dataframe tbody tr th:only-of-type {\n",
       "        vertical-align: middle;\n",
       "    }\n",
       "\n",
       "    .dataframe tbody tr th {\n",
       "        vertical-align: top;\n",
       "    }\n",
       "\n",
       "    .dataframe thead th {\n",
       "        text-align: right;\n",
       "    }\n",
       "</style>\n",
       "<table border=\"1\" class=\"dataframe\">\n",
       "  <thead>\n",
       "    <tr style=\"text-align: right;\">\n",
       "      <th></th>\n",
       "      <th>year</th>\n",
       "      <th>case_type</th>\n",
       "      <th>count</th>\n",
       "    </tr>\n",
       "    <tr>\n",
       "      <th>state</th>\n",
       "      <th></th>\n",
       "      <th></th>\n",
       "      <th></th>\n",
       "    </tr>\n",
       "  </thead>\n",
       "  <tbody>\n",
       "    <tr>\n",
       "      <th>Alaska</th>\n",
       "      <td>2020</td>\n",
       "      <td>G+C+Joint</td>\n",
       "      <td>1171</td>\n",
       "    </tr>\n",
       "    <tr>\n",
       "      <th>Alaska</th>\n",
       "      <td>2019</td>\n",
       "      <td>G+C+Joint</td>\n",
       "      <td>1084</td>\n",
       "    </tr>\n",
       "    <tr>\n",
       "      <th>Alaska</th>\n",
       "      <td>2018</td>\n",
       "      <td>G+C+Joint</td>\n",
       "      <td>1227</td>\n",
       "    </tr>\n",
       "    <tr>\n",
       "      <th>Alaska</th>\n",
       "      <td>2017</td>\n",
       "      <td>G+C+Joint</td>\n",
       "      <td>1090</td>\n",
       "    </tr>\n",
       "    <tr>\n",
       "      <th>Arizona</th>\n",
       "      <td>2020</td>\n",
       "      <td>Guardianship ONLY</td>\n",
       "      <td>2520</td>\n",
       "    </tr>\n",
       "  </tbody>\n",
       "</table>\n",
       "</div>"
      ],
      "text/plain": [
       "         year          case_type  count\n",
       "state                                  \n",
       "Alaska   2020          G+C+Joint   1171\n",
       "Alaska   2019          G+C+Joint   1084\n",
       "Alaska   2018          G+C+Joint   1227\n",
       "Alaska   2017          G+C+Joint   1090\n",
       "Arizona  2020  Guardianship ONLY   2520"
      ]
     },
     "execution_count": 20,
     "metadata": {},
     "output_type": "execute_result"
    }
   ],
   "source": [
    "import pandas as pd\n",
    "df = pd.read_csv('filing_counts.csv')\n",
    "df = df.drop(\"for_total\",axis=1).drop(\"case_action\",axis=1).drop(\"age_group\",axis=1).set_index('state')\n",
    "df.head()"
   ]
  },
  {
   "cell_type": "code",
   "execution_count": null,
   "id": "98e7c071-d629-4b79-932d-991b7d698c78",
   "metadata": {},
   "outputs": [],
   "source": [
    "import pandas as pd\n",
    "def load_and_process(filing_counts):\n",
    "    df = pd.read_csv(\"filing_counts.csv\")\n",
    "    df = .drop(\"for_total\",axis=1).drop(\"case_action\",axis=1).drop(\"age_group\",axis=1).set_index('state')"
   ]
  }
 ],
 "metadata": {
  "kernelspec": {
   "display_name": "Python 3 (ipykernel)",
   "language": "python",
   "name": "python3"
  },
  "language_info": {
   "codemirror_mode": {
    "name": "ipython",
    "version": 3
   },
   "file_extension": ".py",
   "mimetype": "text/x-python",
   "name": "python",
   "nbconvert_exporter": "python",
   "pygments_lexer": "ipython3",
   "version": "3.9.5"
  }
 },
 "nbformat": 4,
 "nbformat_minor": 5
}
