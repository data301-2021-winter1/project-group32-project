{
 "cells": [
  {
   "cell_type": "code",
   "execution_count": 21,
   "id": "06046c72-f74d-4954-a340-70ca7273fe60",
   "metadata": {},
   "outputs": [],
   "source": [
    "import pandas as pd\n",
    "import numpy as np\n",
    "\n",
    "\n",
    "def load_and_process(filing_counts):\n",
    "    df = (\n",
    "        pd.read_csv(\"filing_counts.csv\")\n",
    "        .drop(\"for_total\",axis=1)\n",
    "        .drop(\"case_action\",axis=1)\n",
    "        .drop(\"age_group\",axis=1)\n",
    "        .set_index('state')\n",
    "         )\n",
    "    return df\n"
   ]
  },
  {
   "cell_type": "code",
   "execution_count": 22,
   "id": "1f16563b-18b5-48df-afd2-f71651bce415",
   "metadata": {},
   "outputs": [],
   "source": [
    "df.to_csv(\"Cleandata2.csv\")"
   ]
  },
  {
   "cell_type": "code",
   "execution_count": null,
   "id": "309083b4-900e-4847-a3a7-8e2436f090a3",
   "metadata": {},
   "outputs": [],
   "source": []
  }
 ],
 "metadata": {
  "kernelspec": {
   "display_name": "Python 3 (ipykernel)",
   "language": "python",
   "name": "python3"
  },
  "language_info": {
   "codemirror_mode": {
    "name": "ipython",
    "version": 3
   },
   "file_extension": ".py",
   "mimetype": "text/x-python",
   "name": "python",
   "nbconvert_exporter": "python",
   "pygments_lexer": "ipython3",
   "version": "3.9.5"
  }
 },
 "nbformat": 4,
 "nbformat_minor": 5
}
