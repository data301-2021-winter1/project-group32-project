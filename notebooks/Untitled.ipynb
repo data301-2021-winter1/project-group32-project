{
 "cells": [
  {
   "cell_type": "markdown",
   "id": "b89c1793-ee3a-4071-996f-647583d2d3f1",
   "metadata": {},
   "source": [
    "# Hannah Ludbrook"
   ]
  },
  {
   "cell_type": "markdown",
   "id": "2bdaf29b-e4ae-4966-a015-16e4998e4671",
   "metadata": {},
   "source": [
    "## Research Questions/interests"
   ]
  },
  {
   "cell_type": "code",
   "execution_count": null,
   "id": "74adf867-e00b-4556-be7a-291c5d99a113",
   "metadata": {},
   "outputs": [],
   "source": [
    "### Analysis Question 1:"
   ]
  },
  {
   "cell_type": "code",
   "execution_count": null,
   "id": "3ce36eb4-56d6-4a75-883b-e6fba81430f5",
   "metadata": {},
   "outputs": [],
   "source": []
  },
  {
   "cell_type": "code",
   "execution_count": null,
   "id": "f016be8a-2a81-478b-bf32-eb051993fecf",
   "metadata": {},
   "outputs": [],
   "source": []
  },
  {
   "cell_type": "code",
   "execution_count": null,
   "id": "4d751191-29e8-41f7-974f-c46ce800d50f",
   "metadata": {},
   "outputs": [],
   "source": []
  },
  {
   "cell_type": "code",
   "execution_count": null,
   "id": "3fe4601f-6527-4c91-b18e-a479c43bd75b",
   "metadata": {},
   "outputs": [],
   "source": []
  }
 ],
 "metadata": {
  "kernelspec": {
   "display_name": "Python 3 (ipykernel)",
   "language": "python",
   "name": "python3"
  },
  "language_info": {
   "codemirror_mode": {
    "name": "ipython",
    "version": 3
   },
   "file_extension": ".py",
   "mimetype": "text/x-python",
   "name": "python",
   "nbconvert_exporter": "python",
   "pygments_lexer": "ipython3",
   "version": "3.9.5"
  }
 },
 "nbformat": 4,
 "nbformat_minor": 5
}
