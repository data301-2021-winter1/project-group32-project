{
 "cells": [
  {
   "cell_type": "markdown",
   "metadata": {},
   "source": [
    "# Megan Stanwood"
   ]
  },
  {
   "cell_type": "markdown",
   "metadata": {},
   "source": [
    "### I am interested in the frequency of guardianships and conservatorships in the United States. I am also curious about the progression of guardianships/conservatorships, and how ethics play a role. I am specifically interested in the different court rulings in different states, and through my data analysis, I would like to explore how the states differ in frequency of conservatorships and guardianships. Why it is so prevalent in the United States today? Why do some states differ so greatly in their numbers?"
   ]
  },
  {
   "cell_type": "code",
   "execution_count": 21,
   "metadata": {},
   "outputs": [
    {
     "data": {
      "text/html": [
       "<div>\n",
       "<style scoped>\n",
       "    .dataframe tbody tr th:only-of-type {\n",
       "        vertical-align: middle;\n",
       "    }\n",
       "\n",
       "    .dataframe tbody tr th {\n",
       "        vertical-align: top;\n",
       "    }\n",
       "\n",
       "    .dataframe thead th {\n",
       "        text-align: right;\n",
       "    }\n",
       "</style>\n",
       "<table border=\"1\" class=\"dataframe\">\n",
       "  <thead>\n",
       "    <tr style=\"text-align: right;\">\n",
       "      <th></th>\n",
       "      <th>state</th>\n",
       "      <th>year</th>\n",
       "      <th>case_type</th>\n",
       "      <th>count</th>\n",
       "    </tr>\n",
       "  </thead>\n",
       "  <tbody>\n",
       "    <tr>\n",
       "      <th>0</th>\n",
       "      <td>Alaska</td>\n",
       "      <td>2020</td>\n",
       "      <td>G+C+Joint</td>\n",
       "      <td>1171</td>\n",
       "    </tr>\n",
       "    <tr>\n",
       "      <th>1</th>\n",
       "      <td>Alaska</td>\n",
       "      <td>2019</td>\n",
       "      <td>G+C+Joint</td>\n",
       "      <td>1084</td>\n",
       "    </tr>\n",
       "    <tr>\n",
       "      <th>2</th>\n",
       "      <td>Alaska</td>\n",
       "      <td>2018</td>\n",
       "      <td>G+C+Joint</td>\n",
       "      <td>1227</td>\n",
       "    </tr>\n",
       "    <tr>\n",
       "      <th>3</th>\n",
       "      <td>Alaska</td>\n",
       "      <td>2017</td>\n",
       "      <td>G+C+Joint</td>\n",
       "      <td>1090</td>\n",
       "    </tr>\n",
       "    <tr>\n",
       "      <th>4</th>\n",
       "      <td>Arizona</td>\n",
       "      <td>2020</td>\n",
       "      <td>Guardianship ONLY</td>\n",
       "      <td>2520</td>\n",
       "    </tr>\n",
       "  </tbody>\n",
       "</table>\n",
       "</div>"
      ],
      "text/plain": [
       "     state  year          case_type  count\n",
       "0   Alaska  2020          G+C+Joint   1171\n",
       "1   Alaska  2019          G+C+Joint   1084\n",
       "2   Alaska  2018          G+C+Joint   1227\n",
       "3   Alaska  2017          G+C+Joint   1090\n",
       "4  Arizona  2020  Guardianship ONLY   2520"
      ]
     },
     "execution_count": 21,
     "metadata": {},
     "output_type": "execute_result"
    }
   ],
   "source": [
    "import pandas as pd\n",
    "import seaborn as sns\n",
    "\n",
    "df = pd.read_csv('filing_counts.csv')\n",
    "\n",
    "DeleteList=['case_action',\"for_total\",\"age_group\"]\n",
    "df=df.drop(DeleteList, axis=1)\n",
    "\n",
    "\n",
    "df.head()"
   ]
  },
  {
   "cell_type": "code",
   "execution_count": 2,
   "metadata": {},
   "outputs": [
    {
     "data": {
      "text/plain": [
       "2018.4184210526316"
      ]
     },
     "execution_count": 2,
     "metadata": {},
     "output_type": "execute_result"
    }
   ],
   "source": [
    "df['year'].mean()"
   ]
  },
  {
   "cell_type": "code",
   "execution_count": 3,
   "metadata": {},
   "outputs": [
    {
     "data": {
      "text/plain": [
       "(380, 4)"
      ]
     },
     "execution_count": 3,
     "metadata": {},
     "output_type": "execute_result"
    }
   ],
   "source": [
    "df.shape"
   ]
  },
  {
   "cell_type": "code",
   "execution_count": 4,
   "metadata": {},
   "outputs": [
    {
     "data": {
      "text/plain": [
       "state         37\n",
       "year           6\n",
       "case_type      4\n",
       "count        332\n",
       "dtype: int64"
      ]
     },
     "execution_count": 4,
     "metadata": {},
     "output_type": "execute_result"
    }
   ],
   "source": [
    "df.nunique(axis=0)\n",
    "#there are 6 different years that case filings are pulled from\n",
    "#there are 4 different case types: G+C+J, G only, C only, and Joint only"
   ]
  },
  {
   "cell_type": "code",
   "execution_count": 5,
   "metadata": {},
   "outputs": [
    {
     "data": {
      "text/html": [
       "<div>\n",
       "<style scoped>\n",
       "    .dataframe tbody tr th:only-of-type {\n",
       "        vertical-align: middle;\n",
       "    }\n",
       "\n",
       "    .dataframe tbody tr th {\n",
       "        vertical-align: top;\n",
       "    }\n",
       "\n",
       "    .dataframe thead th {\n",
       "        text-align: right;\n",
       "    }\n",
       "</style>\n",
       "<table border=\"1\" class=\"dataframe\">\n",
       "  <thead>\n",
       "    <tr style=\"text-align: right;\">\n",
       "      <th></th>\n",
       "      <th>year</th>\n",
       "      <th>count</th>\n",
       "    </tr>\n",
       "  </thead>\n",
       "  <tbody>\n",
       "    <tr>\n",
       "      <th>count</th>\n",
       "      <td>380.000000</td>\n",
       "      <td>380.000000</td>\n",
       "    </tr>\n",
       "    <tr>\n",
       "      <th>mean</th>\n",
       "      <td>2018.418421</td>\n",
       "      <td>1817.150000</td>\n",
       "    </tr>\n",
       "    <tr>\n",
       "      <th>std</th>\n",
       "      <td>1.264985</td>\n",
       "      <td>3525.655222</td>\n",
       "    </tr>\n",
       "    <tr>\n",
       "      <th>min</th>\n",
       "      <td>2016.000000</td>\n",
       "      <td>0.000000</td>\n",
       "    </tr>\n",
       "    <tr>\n",
       "      <th>25%</th>\n",
       "      <td>2017.750000</td>\n",
       "      <td>144.750000</td>\n",
       "    </tr>\n",
       "    <tr>\n",
       "      <th>50%</th>\n",
       "      <td>2018.000000</td>\n",
       "      <td>592.500000</td>\n",
       "    </tr>\n",
       "    <tr>\n",
       "      <th>75%</th>\n",
       "      <td>2019.000000</td>\n",
       "      <td>2097.000000</td>\n",
       "    </tr>\n",
       "    <tr>\n",
       "      <th>max</th>\n",
       "      <td>2021.000000</td>\n",
       "      <td>28004.000000</td>\n",
       "    </tr>\n",
       "  </tbody>\n",
       "</table>\n",
       "</div>"
      ],
      "text/plain": [
       "              year         count\n",
       "count   380.000000    380.000000\n",
       "mean   2018.418421   1817.150000\n",
       "std       1.264985   3525.655222\n",
       "min    2016.000000      0.000000\n",
       "25%    2017.750000    144.750000\n",
       "50%    2018.000000    592.500000\n",
       "75%    2019.000000   2097.000000\n",
       "max    2021.000000  28004.000000"
      ]
     },
     "execution_count": 5,
     "metadata": {},
     "output_type": "execute_result"
    }
   ],
   "source": [
    "df.describe().apply(lambda s: s.apply(lambda x: format(x, 'f')))"
   ]
  },
  {
   "cell_type": "code",
   "execution_count": 6,
   "metadata": {},
   "outputs": [
    {
     "name": "stdout",
     "output_type": "stream",
     "text": [
      "<class 'pandas.core.frame.DataFrame'>\n",
      "RangeIndex: 380 entries, 0 to 379\n",
      "Data columns (total 4 columns):\n",
      " #   Column     Non-Null Count  Dtype \n",
      "---  ------     --------------  ----- \n",
      " 0   state      380 non-null    object\n",
      " 1   year       380 non-null    int64 \n",
      " 2   case_type  380 non-null    object\n",
      " 3   count      380 non-null    int64 \n",
      "dtypes: int64(2), object(2)\n",
      "memory usage: 12.0+ KB\n"
     ]
    }
   ],
   "source": [
    "df.info()"
   ]
  },
  {
   "cell_type": "code",
   "execution_count": 7,
   "metadata": {},
   "outputs": [
    {
     "data": {
      "text/plain": [
       "380"
      ]
     },
     "execution_count": 7,
     "metadata": {},
     "output_type": "execute_result"
    }
   ],
   "source": [
    "len(df)"
   ]
  },
  {
   "cell_type": "code",
   "execution_count": 8,
   "metadata": {},
   "outputs": [
    {
     "data": {
      "text/plain": [
       "['state', 'year', 'case_type', 'count']"
      ]
     },
     "execution_count": 8,
     "metadata": {},
     "output_type": "execute_result"
    }
   ],
   "source": [
    "list(df.columns)"
   ]
  },
  {
   "cell_type": "code",
   "execution_count": 13,
   "metadata": {},
   "outputs": [
    {
     "name": "stdout",
     "output_type": "stream",
     "text": [
      "Preview of data:\n"
     ]
    },
    {
     "data": {
      "text/html": [
       "<div>\n",
       "<style scoped>\n",
       "    .dataframe tbody tr th:only-of-type {\n",
       "        vertical-align: middle;\n",
       "    }\n",
       "\n",
       "    .dataframe tbody tr th {\n",
       "        vertical-align: top;\n",
       "    }\n",
       "\n",
       "    .dataframe thead th {\n",
       "        text-align: right;\n",
       "    }\n",
       "</style>\n",
       "<table border=\"1\" class=\"dataframe\">\n",
       "  <thead>\n",
       "    <tr style=\"text-align: right;\">\n",
       "      <th></th>\n",
       "      <th>state</th>\n",
       "      <th>year</th>\n",
       "      <th>case_type</th>\n",
       "      <th>count</th>\n",
       "    </tr>\n",
       "  </thead>\n",
       "  <tbody>\n",
       "    <tr>\n",
       "      <th>0</th>\n",
       "      <td>Alaska</td>\n",
       "      <td>2020</td>\n",
       "      <td>G+C+Joint</td>\n",
       "      <td>1171</td>\n",
       "    </tr>\n",
       "    <tr>\n",
       "      <th>1</th>\n",
       "      <td>Alaska</td>\n",
       "      <td>2019</td>\n",
       "      <td>G+C+Joint</td>\n",
       "      <td>1084</td>\n",
       "    </tr>\n",
       "    <tr>\n",
       "      <th>2</th>\n",
       "      <td>Alaska</td>\n",
       "      <td>2018</td>\n",
       "      <td>G+C+Joint</td>\n",
       "      <td>1227</td>\n",
       "    </tr>\n",
       "  </tbody>\n",
       "</table>\n",
       "</div>"
      ],
      "text/plain": [
       "    state  year  case_type  count\n",
       "0  Alaska  2020  G+C+Joint   1171\n",
       "1  Alaska  2019  G+C+Joint   1084\n",
       "2  Alaska  2018  G+C+Joint   1227"
      ]
     },
     "metadata": {},
     "output_type": "display_data"
    },
    {
     "name": "stdout",
     "output_type": "stream",
     "text": [
      "\n",
      "To check: \n",
      " (1) Total number of entries \n",
      " (2) Column types \n",
      " (3) Any null values\n",
      "\n",
      "<class 'pandas.core.frame.DataFrame'>\n",
      "RangeIndex: 380 entries, 0 to 379\n",
      "Data columns (total 4 columns):\n",
      " #   Column     Non-Null Count  Dtype \n",
      "---  ------     --------------  ----- \n",
      " 0   state      380 non-null    object\n",
      " 1   year       380 non-null    int64 \n",
      " 2   case_type  380 non-null    object\n",
      " 3   count      380 non-null    int64 \n",
      "dtypes: int64(2), object(2)\n",
      "memory usage: 12.0+ KB\n",
      "None\n",
      "\n",
      "***Number of duplicated entries:  7\n"
     ]
    },
    {
     "data": {
      "text/html": [
       "<div>\n",
       "<style scoped>\n",
       "    .dataframe tbody tr th:only-of-type {\n",
       "        vertical-align: middle;\n",
       "    }\n",
       "\n",
       "    .dataframe tbody tr th {\n",
       "        vertical-align: top;\n",
       "    }\n",
       "\n",
       "    .dataframe thead th {\n",
       "        text-align: right;\n",
       "    }\n",
       "</style>\n",
       "<table border=\"1\" class=\"dataframe\">\n",
       "  <thead>\n",
       "    <tr style=\"text-align: right;\">\n",
       "      <th></th>\n",
       "      <th>state</th>\n",
       "      <th>year</th>\n",
       "      <th>case_type</th>\n",
       "      <th>count</th>\n",
       "    </tr>\n",
       "  </thead>\n",
       "  <tbody>\n",
       "    <tr>\n",
       "      <th>160</th>\n",
       "      <td>Michigan</td>\n",
       "      <td>2018</td>\n",
       "      <td>Conservatorship ONLY</td>\n",
       "      <td>0</td>\n",
       "    </tr>\n",
       "    <tr>\n",
       "      <th>164</th>\n",
       "      <td>Michigan</td>\n",
       "      <td>2018</td>\n",
       "      <td>Conservatorship ONLY</td>\n",
       "      <td>0</td>\n",
       "    </tr>\n",
       "    <tr>\n",
       "      <th>158</th>\n",
       "      <td>Michigan</td>\n",
       "      <td>2018</td>\n",
       "      <td>Guardianship ONLY</td>\n",
       "      <td>0</td>\n",
       "    </tr>\n",
       "    <tr>\n",
       "      <th>162</th>\n",
       "      <td>Michigan</td>\n",
       "      <td>2018</td>\n",
       "      <td>Guardianship ONLY</td>\n",
       "      <td>0</td>\n",
       "    </tr>\n",
       "    <tr>\n",
       "      <th>152</th>\n",
       "      <td>Michigan</td>\n",
       "      <td>2019</td>\n",
       "      <td>Conservatorship ONLY</td>\n",
       "      <td>0</td>\n",
       "    </tr>\n",
       "  </tbody>\n",
       "</table>\n",
       "</div>"
      ],
      "text/plain": [
       "        state  year             case_type  count\n",
       "160  Michigan  2018  Conservatorship ONLY      0\n",
       "164  Michigan  2018  Conservatorship ONLY      0\n",
       "158  Michigan  2018     Guardianship ONLY      0\n",
       "162  Michigan  2018     Guardianship ONLY      0\n",
       "152  Michigan  2019  Conservatorship ONLY      0"
      ]
     },
     "metadata": {},
     "output_type": "display_data"
    }
   ],
   "source": [
    "eda(df)"
   ]
  },
  {
   "cell_type": "code",
   "execution_count": 41,
   "metadata": {},
   "outputs": [],
   "source": [
    "#Import Libraries\n",
    "import numpy as np\n",
    "import pandas as pd\n",
    "import matplotlib.pylab as plt\n",
    "import seaborn as sns\n",
    "#Understanding my variables"
   ]
  },
  {
   "cell_type": "markdown",
   "metadata": {},
   "source": [
    "## Figures for analysis"
   ]
  },
  {
   "cell_type": "code",
   "execution_count": 14,
   "metadata": {},
   "outputs": [
    {
     "name": "stdout",
     "output_type": "stream",
     "text": [
      "this histogram shows the frequency that each year is listed in the dataset. The histogram isolates one variable and allows it to be studied in more detail. The years are listed on the x axis, and the frequency that they are listed in the dataset is listed on the y axis\n"
     ]
    },
    {
     "data": {
      "image/png": "[encoded data removed]",
      "text/plain": [
       "<Figure size 576x360 with 1 Axes>"
      ]
     },
     "metadata": {
      "needs_background": "light"
     },
     "output_type": "display_data"
    }
   ],
   "source": [
    "df['year'].plot(kind='hist', bins=50, figsize=(8,5), facecolor='grey',edgecolor='black')\n",
    "print('this histogram shows the frequency that each year is listed in the dataset. The histogram isolates one variable and allows it to be studied in more detail. The years are listed on the x axis, and the frequency that they are listed in the dataset is listed on the y axis')"
   ]
  },
  {
   "cell_type": "code",
   "execution_count": 30,
   "metadata": {},
   "outputs": [],
   "source": [
    "# set identifier \"case_type\" as string\n",
    "df['case_type'] = df['case_type'].astype('str')\n",
    "# set categorical data\n",
    "df['case_type'] = df['case_type'].astype('category')\n",
    "df['year'] = df['year'].astype('int64')\n",
    "df['count'] = df['count'].astype('int64')\n",
    "df['state'] = df['state'].astype('category')\n",
    "\n",
    "sns.set_theme(style=\"white\")\n"
   ]
  },
  {
   "cell_type": "code",
   "execution_count": 16,
   "metadata": {},
   "outputs": [
    {
     "name": "stdout",
     "output_type": "stream",
     "text": [
      "Top 5 unique values of state\n",
      "            state  Count\n",
      "0      New Mexico     36\n",
      "1  North Carolina     30\n",
      "2        Colorado     30\n",
      "3        Michigan     24\n",
      "4           Idaho     18\n",
      " \n",
      "Top 5 unique values of case_type\n",
      "              case_type  Count\n",
      "0             G+C+Joint    132\n",
      "1     Guardianship ONLY    106\n",
      "2  Conservatorship ONLY     86\n",
      "3        Joint G/C ONLY     56\n",
      " \n",
      "\n",
      "To check: \n",
      "Unique count of non-numeric data\n",
      "\n",
      "state        37\n",
      "case_type     4\n",
      "dtype: int64\n",
      "Top 5 unique values of state\n",
      "            state  Count\n",
      "0      New Mexico     36\n",
      "1  North Carolina     30\n",
      "2        Colorado     30\n",
      "3        Michigan     24\n",
      "4           Idaho     18\n",
      " \n",
      "Top 5 unique values of case_type\n",
      "              case_type  Count\n",
      "0             G+C+Joint    132\n",
      "1     Guardianship ONLY    106\n",
      "2  Conservatorship ONLY     86\n",
      "3        Joint G/C ONLY     56\n",
      " \n"
     ]
    },
    {
     "data": {
      "image/png": "[encoded data removed]",
      "text/plain": [
       "<Figure size 360x360 with 1 Axes>"
      ]
     },
     "metadata": {
      "needs_background": "light"
     },
     "output_type": "display_data"
    },
    {
     "data": {
      "image/png": "[encoded data removed]",
      "text/plain": [
       "<Figure size 360x360 with 1 Axes>"
      ]
     },
     "metadata": {
      "needs_background": "light"
     },
     "output_type": "display_data"
    },
    {
     "name": "stdout",
     "output_type": "stream",
     "text": [
      "The boxplot of state by count gives me an idea of how mnay times a state is listed in the dataset. It does not have any information about actual counts of cases in each state, but it can provide information about discrepancies between states.The boxplot of case type by count demonstrates the frequency of case types listed in the dataset. Predictably, the most commonly listed case type is Guardianship+Conservatorship+Joint, which is the category that includes all types of cases. Of the 50 states, 37 states released records of court rulings.\n"
     ]
    }
   ],
   "source": [
    "top5(df)\n",
    "\n",
    "categorical_eda(df)\n",
    "print(\"The boxplot of state by count gives me an idea of how mnay times a state is listed in the dataset. It does not have any information about actual counts of cases in each state, but it can provide information about discrepancies between states.The boxplot of case type by count demonstrates the frequency of case types listed in the dataset. Predictably, the most commonly listed case type is Guardianship+Conservatorship+Joint, which is the category that includes all types of cases. Of the 50 states, 37 states released records of court rulings.\")\n"
   ]
  },
  {
   "cell_type": "code",
   "execution_count": 59,
   "metadata": {},
   "outputs": [
    {
     "data": {
      "image/png": "[encoded data removed]",
      "text/plain": [
       "<Figure size 936x720 with 1 Axes>"
      ]
     },
     "metadata": {},
     "output_type": "display_data"
    }
   ],
   "source": [
    "grouped_bar=pd.crosstab(columns=df[\"case_type\"], index=df[\"state\"])\n",
    "grouped_bar.plot.bar(figsize=(13,10),width=1)\n",
    "plt.title(\"Number of Case Types per State\")\n",
    "plt.xlabel(\"State\")\n",
    "plt.ylabel(\"Count by Case Type\")\n",
    "\n",
    "\n",
    "def change_width(ax, new_value) :\n",
    "    locs = ax.get_xticks()\n",
    "    for i,patch in enumerate(ax.patches):\n",
    "        current_width = patch.get_width()\n",
    "        diff = current_width - new_value\n",
    "\n",
    "        # we change the bar width\n",
    "        patch.set_width(new_value)\n",
    "\n",
    "        # we recenter the bar\n",
    "        patch.set_x(locs[i//4] - (new_value * 1))"
   ]
  },
  {
   "cell_type": "markdown",
   "metadata": {},
   "source": [
    "This chart allows me to see the difference between case types by state. As we can see, there is a lot of variance between states regarding the records they release. Each case type will have a different year and count. For example, New York has four counts of G+C+Joint, over four years, and an average of around 20,000 cases per year. Although this graph doesn't allow us to see the counts of cases for each state, but again, it can help us understand the differences between states, and the ratio of case types to count."
   ]
  },
  {
   "cell_type": "code",
   "execution_count": 107,
   "metadata": {},
   "outputs": [
    {
     "data": {
      "image/png": "[encoded data removed]",
      "text/plain": [
       "<Figure size 720x720 with 1 Axes>"
      ]
     },
     "metadata": {},
     "output_type": "display_data"
    }
   ],
   "source": [
    "sns.barplot(y=\"state\", x=\"count\", data=df).set_title(\"Count of Cases by State\")\n",
    "sns.stripplot(y=\"state\", x=\"count\", data=df, color=\"grey\")\n",
    "sns.set(rc = {'figure.figsize':(10,10)})\n",
    "sns.set_theme(style=\"white\")\n",
    "sns.set_style(\"ticks\")"
   ]
  },
  {
   "cell_type": "markdown",
   "metadata": {},
   "source": [
    "This bar plot with a strip plot overlay allows me to see all the counts of cases per state. Each state had a few entries with different counts that correspond to different years and case types. This graph is helpful because I can visualize the discrepancies between states and their case counts. For example, New York and California are outliers, with their high counts and minimal entries. "
   ]
  },
  {
   "cell_type": "code",
   "execution_count": 81,
   "metadata": {},
   "outputs": [
    {
     "name": "stdout",
     "output_type": "stream",
     "text": [
      "No. of duplicated entries:  7\n",
      "        state  year             case_type  count\n",
      "160  Michigan  2018  Conservatorship ONLY      0\n",
      "164  Michigan  2018  Conservatorship ONLY      0\n",
      "158  Michigan  2018     Guardianship ONLY      0\n",
      "162  Michigan  2018     Guardianship ONLY      0\n",
      "152  Michigan  2019  Conservatorship ONLY      0\n"
     ]
    }
   ],
   "source": [
    "# generate count statistics of duplicate entries\n",
    "if len(df[df.duplicated()]) > 0:\n",
    "    print(\"No. of duplicated entries: \", len(df[df.duplicated()]))\n",
    "    print(df[df.duplicated(keep=False)].sort_values(by=list(df.columns)).head())\n",
    "else:\n",
    "    print(\"No duplicated entries found\")\n",
    "    "
   ]
  },
  {
   "cell_type": "code",
   "execution_count": 82,
   "metadata": {},
   "outputs": [],
   "source": [
    "df.drop_duplicates(inplace=True)"
   ]
  },
  {
   "cell_type": "code",
   "execution_count": 83,
   "metadata": {},
   "outputs": [
    {
     "name": "stdout",
     "output_type": "stream",
     "text": [
      "No duplicated entries found\n"
     ]
    }
   ],
   "source": [
    "if len(df[df.duplicated()]) > 0:\n",
    "    print(\"No. of duplicated entries: \", len(df[df.duplicated()]))\n",
    "    print(df[df.duplicated(keep=False)].sort_values(by=list(df.columns)).head())\n",
    "else:\n",
    "    print(\"No duplicated entries found\")"
   ]
  },
  {
   "cell_type": "code",
   "execution_count": 84,
   "metadata": {},
   "outputs": [
    {
     "data": {
      "text/html": [
       "<div>\n",
       "<style scoped>\n",
       "    .dataframe tbody tr th:only-of-type {\n",
       "        vertical-align: middle;\n",
       "    }\n",
       "\n",
       "    .dataframe tbody tr th {\n",
       "        vertical-align: top;\n",
       "    }\n",
       "\n",
       "    .dataframe thead th {\n",
       "        text-align: right;\n",
       "    }\n",
       "</style>\n",
       "<table border=\"1\" class=\"dataframe\">\n",
       "  <thead>\n",
       "    <tr style=\"text-align: right;\">\n",
       "      <th></th>\n",
       "      <th>year</th>\n",
       "      <th>case_type</th>\n",
       "      <th>count</th>\n",
       "    </tr>\n",
       "    <tr>\n",
       "      <th>state</th>\n",
       "      <th></th>\n",
       "      <th></th>\n",
       "      <th></th>\n",
       "    </tr>\n",
       "  </thead>\n",
       "  <tbody>\n",
       "    <tr>\n",
       "      <th>Alaska</th>\n",
       "      <td>2020</td>\n",
       "      <td>G+C+Joint</td>\n",
       "      <td>1171</td>\n",
       "    </tr>\n",
       "    <tr>\n",
       "      <th>Alaska</th>\n",
       "      <td>2019</td>\n",
       "      <td>G+C+Joint</td>\n",
       "      <td>1084</td>\n",
       "    </tr>\n",
       "    <tr>\n",
       "      <th>Alaska</th>\n",
       "      <td>2018</td>\n",
       "      <td>G+C+Joint</td>\n",
       "      <td>1227</td>\n",
       "    </tr>\n",
       "    <tr>\n",
       "      <th>Alaska</th>\n",
       "      <td>2017</td>\n",
       "      <td>G+C+Joint</td>\n",
       "      <td>1090</td>\n",
       "    </tr>\n",
       "    <tr>\n",
       "      <th>Arizona</th>\n",
       "      <td>2020</td>\n",
       "      <td>Guardianship ONLY</td>\n",
       "      <td>2520</td>\n",
       "    </tr>\n",
       "  </tbody>\n",
       "</table>\n",
       "</div>"
      ],
      "text/plain": [
       "         year          case_type  count\n",
       "state                                  \n",
       "Alaska   2020          G+C+Joint   1171\n",
       "Alaska   2019          G+C+Joint   1084\n",
       "Alaska   2018          G+C+Joint   1227\n",
       "Alaska   2017          G+C+Joint   1090\n",
       "Arizona  2020  Guardianship ONLY   2520"
      ]
     },
     "execution_count": 84,
     "metadata": {},
     "output_type": "execute_result"
    }
   ],
   "source": [
    "df = df.set_index(\"state\")\n",
    "df.head()\n",
    "#setting the index as state makes it a lot easier for me to locate information specific to each state"
   ]
  },
  {
   "cell_type": "markdown",
   "metadata": {},
   "source": [
    "Setting the state column as the index can allow me to search through the dataset easily. I can calculate the average of each state's count of cases and narrow down the dataset to help my analysis. For example:"
   ]
  },
  {
   "cell_type": "code",
   "execution_count": 85,
   "metadata": {},
   "outputs": [
    {
     "data": {
      "text/html": [
       "<div>\n",
       "<style scoped>\n",
       "    .dataframe tbody tr th:only-of-type {\n",
       "        vertical-align: middle;\n",
       "    }\n",
       "\n",
       "    .dataframe tbody tr th {\n",
       "        vertical-align: top;\n",
       "    }\n",
       "\n",
       "    .dataframe thead th {\n",
       "        text-align: right;\n",
       "    }\n",
       "</style>\n",
       "<table border=\"1\" class=\"dataframe\">\n",
       "  <thead>\n",
       "    <tr style=\"text-align: right;\">\n",
       "      <th></th>\n",
       "      <th>year</th>\n",
       "      <th>case_type</th>\n",
       "      <th>count</th>\n",
       "    </tr>\n",
       "    <tr>\n",
       "      <th>state</th>\n",
       "      <th></th>\n",
       "      <th></th>\n",
       "      <th></th>\n",
       "    </tr>\n",
       "  </thead>\n",
       "  <tbody>\n",
       "    <tr>\n",
       "      <th>New York</th>\n",
       "      <td>2020</td>\n",
       "      <td>G+C+Joint</td>\n",
       "      <td>18226</td>\n",
       "    </tr>\n",
       "    <tr>\n",
       "      <th>New York</th>\n",
       "      <td>2019</td>\n",
       "      <td>G+C+Joint</td>\n",
       "      <td>26763</td>\n",
       "    </tr>\n",
       "    <tr>\n",
       "      <th>New York</th>\n",
       "      <td>2018</td>\n",
       "      <td>G+C+Joint</td>\n",
       "      <td>26893</td>\n",
       "    </tr>\n",
       "    <tr>\n",
       "      <th>New York</th>\n",
       "      <td>2017</td>\n",
       "      <td>G+C+Joint</td>\n",
       "      <td>28004</td>\n",
       "    </tr>\n",
       "  </tbody>\n",
       "</table>\n",
       "</div>"
      ],
      "text/plain": [
       "          year  case_type  count\n",
       "state                           \n",
       "New York  2020  G+C+Joint  18226\n",
       "New York  2019  G+C+Joint  26763\n",
       "New York  2018  G+C+Joint  26893\n",
       "New York  2017  G+C+Joint  28004"
      ]
     },
     "execution_count": 85,
     "metadata": {},
     "output_type": "execute_result"
    }
   ],
   "source": [
    "df2=df.loc[\"New York\"]\n",
    "df2.head()"
   ]
  },
  {
   "cell_type": "code",
   "execution_count": 87,
   "metadata": {},
   "outputs": [
    {
     "data": {
      "text/plain": [
       "24971.5"
      ]
     },
     "execution_count": 87,
     "metadata": {},
     "output_type": "execute_result"
    }
   ],
   "source": [
    "df2[\"count\"].mean()"
   ]
  },
  {
   "cell_type": "markdown",
   "metadata": {
    "jp-MarkdownHeadingCollapsed": true,
    "tags": []
   },
   "source": [
    "#### I am interested in the frequency of guardianships and conservatorships in the United States. I am also curious about the progression of guardianships/conservatorships, and how ethics play a role. I am specifically interested in the different court rulings in different states, and through my data analysis, I would like to explore how the states differ in frequency of conservatorships and guardianships. How greatly do the States with the highest and lowest average counts of cases differ?\n",
    "\n",
    "We gathered our dataset from Buzzfeed, they had led an investigation into guardianship and conservatorship court filings in the United States. Of 50 states, only 37 were willing to release sealed documents. Many states use local courts for guardianship and conservatorship cases, which are unequipped and sometimes corrupt. As Buzzfeed states in their related news article \"Beyond Britney: Abuse, Exploitation, And Death Inside America’s Guardianship Industry\", many of the same lawyers, jurors, and judges preside over these cases, forming a network with powerful financial incentives. Conservatorships and guardianships are considered worst case scenario, and a last resort. A guardianship will apoint someone as the \"guardian\", who will fill a caretaker role and make decisions on behalf of the subject's best interest. A conservatorship will appoint someone as a \"conservator\", someone who is in charge of the subject's property and financial affairs. Those placed under a guardianship or conservatorship are called \"wards\". They are used in the case when a person is completely unable to make decisions in their best interest, or are incapacitated to the point of needing to be palced under care and control. The drastic measures of this type of court ruling leads one to believe that it would be granted in uncommon and rare situations. So why it is so prevalent in the United States today? Why do some states differ so greatly in their numbers?\n",
    "\n",
    "\n",
    "During my EDA, I got rid of any columns that wouldn't be necessary for my analysis. I dropped the for total column, the case action column, and the age group column. The histogram showing the frequency that each year is listed in the dataset, we see a dramatic increase in 2018 and 2019. In checking for unique values, we can confirm that there are four types of cases and 37 states listed in the dataset. The bar graph that displays the case type by count shows that there are more records of Guardianship+Conservatorship+Joint that were released than any other kind of case type. This tells us that numerous states were willing to release information on all kinds of cases. By setting the state column as the index, it became a lot easier for me to control my analysis and maneuver around my cleaned data. For example, I could isolate and study one state, and get it's average easily.\n",
    "\n",
    "Through my data analysis, I was able to find that New York had not only the largest count of cases, but also the largest average of cases. New York reported guardianship cases, conservatorship cases, and joint cases throughout four years, from 2017 to 2020. District of Columbia has the smallest average count of cases. District of Columbia released records on G+C+Joint, as well as records on conservatorship only. Their cases range from 2018 to 2020. If just controlling for the classification of G+C+Joint, District of Columbia still has the smallest average count of cases, as well as the smallest total amount of cases. New York has an average of 24,972 cases, while District of Coumbia has an average of 257 when controlling for G+C+Joint. District of Columbia is a compact territory with a much smaller population than New York, so perhaps it's not fair that we compare the two. Instead, we can take a look at California, which comes in second behind New York with an average of 15,982. This is interesting, because the population of California nearly doubles that of New York. Is New York more lenient in their rulings? My data visualizations did confirm for me that there is a discrepancy between states and the frequency of guardianships and conservatorships. The lack of cooperation from the thirteen missing states does cause a problem in exploring discrepancies and trends. Additionally, it's for this reason we do not know an accurate count for all 50 states. With the information collected, there is still noticeable variation between the average count of cases per state.\n",
    "\n",
    "The investigation led by Buzzfeed, as well as the investigation into Britney Spears recent release from her conservatorship, reveals the questionable morality and severity of guardianships and conservatorships. The uprise of guardianships and conservatorships is a direct result of a failed judicial system. As stated in the Buzzfeed investigative article, those under a guardianship have many of their rights taken away under the guise that they cannot make decisions for themselves.\n",
    "\n",
    "References:\n",
    "Blake, Heidi and Baker, Katie. (2021, September 17). *Beyond Britney: Abuse, Exploitation, And Death Inside America’s Guardianship Industry.* BuzzFeed.News. https://www.buzzfeednews.com/article/heidiblake/conservatorship-investigation-free-britney-spears\n",
    "\n"
   ]
  },
  {
   "cell_type": "markdown",
   "metadata": {},
   "source": [
    "## Code for EDA"
   ]
  },
  {
   "cell_type": "code",
   "execution_count": 10,
   "metadata": {},
   "outputs": [],
   "source": [
    "def top5(df):\n",
    "    \"\"\"Given dataframe, generate top 5 unique values for non-numeric data\"\"\"\n",
    "    columns = df.select_dtypes(include=['object', 'category']).columns\n",
    "    for col in columns:\n",
    "        print(\"Top 5 unique values of \" + col)\n",
    "        print(df[col].value_counts().reset_index().rename(columns={\"index\": col, col: \"Count\"})[\n",
    "              :min(5, len(df[col].value_counts()))])\n",
    "        print(\" \")\n",
    "    \n",
    "    \n",
    "def categorical_eda(df, hue=None):\n",
    "    \"\"\"Given dataframe, generate EDA of categorical data\"\"\"\n",
    "    print(\"\\nTo check: \\nUnique count of non-numeric data\\n\")\n",
    "    print(df.select_dtypes(include=['object', 'category']).nunique())\n",
    "    top5(df)\n",
    "    # Plot count distribution of categorical data\n",
    "    for col in df.select_dtypes(include='category').columns:\n",
    "        fig = sns.catplot(y=col, kind=\"count\", data=df, hue=hue)\n",
    "        fig.set_xticklabels(rotation=90)\n",
    "        plt.show()\n",
    "    \n",
    "\n",
    "def eda(df):\n",
    "    \"\"\"Given dataframe, generate exploratory data analysis\"\"\"\n",
    "    # check that input is pandas dataframe\n",
    "    if type(df) != pd.core.frame.DataFrame:\n",
    "        raise TypeError(\"Only pandas dataframe is allowed as input\")\n",
    "        \n",
    "    # replace field that's entirely space (or empty) with NaN\n",
    "    df = df.replace(r'^\\s*$', np.nan, regex=True)\n",
    "\n",
    "    print(\"Preview of data:\")\n",
    "    display(df.head(3))\n",
    "\n",
    "    print(\"\\nTo check: \\n (1) Total number of entries \\n (2) Column types \\n (3) Any null values\\n\")\n",
    "    print(df.info())\n",
    "\n",
    "    # generate preview of entries with null values\n",
    "    if df.isnull().any(axis=None):\n",
    "        print(\"\\nPreview of data with null values:\")\n",
    "        display(df[df.isnull().any(axis=1)].head(3))\n",
    "        missingno.matrix(df)\n",
    "        plt.show()\n",
    "\n",
    "    # generate count statistics of duplicate entries\n",
    "    if len(df[df.duplicated()]) > 0:\n",
    "        print(\"\\n***Number of duplicated entries: \", len(df[df.duplicated()]))\n",
    "        display(df[df.duplicated(keep=False)].sort_values(by=list(df.columns)).head())\n",
    "    else:\n",
    "        print(\"\\nNo duplicated entries found\")\n",
    "\n",
    "    # EDA of categorical data"
   ]
  },
  {
   "cell_type": "code",
   "execution_count": null,
   "metadata": {},
   "outputs": [],
   "source": [
    "df.to_csv(\"Cleandata2.csv\")"
   ]
  }
 ],
 "metadata": {
  "kernelspec": {
   "display_name": "Python 3 (ipykernel)",
   "language": "python",
   "name": "python3"
  },
  "language_info": {
   "codemirror_mode": {
    "name": "ipython",
    "version": 3
   },
   "file_extension": ".py",
   "mimetype": "text/x-python",
   "name": "python",
   "nbconvert_exporter": "python",
   "pygments_lexer": "ipython3",
   "version": "3.9.5"
  }
 },
 "nbformat": 4,
 "nbformat_minor": 4
}
