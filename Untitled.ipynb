{
 "cells": [
  {
   "cell_type": "code",
   "execution_count": null,
<<<<<<< HEAD
   "id": "b7d5f32d-9ea6-487a-a279-15329d0d4913",
=======
   "id": "19c34f0f-e31e-4163-a546-db5a09a6d16e",
>>>>>>> 492591523cd4897cdba5b0b09860e107148bd22c
   "metadata": {},
   "outputs": [],
   "source": []
  }
 ],
 "metadata": {
  "kernelspec": {
   "display_name": "Python 3 (ipykernel)",
   "language": "python",
   "name": "python3"
  },
  "language_info": {
   "codemirror_mode": {
    "name": "ipython",
    "version": 3
   },
   "file_extension": ".py",
   "mimetype": "text/x-python",
   "name": "python",
   "nbconvert_exporter": "python",
   "pygments_lexer": "ipython3",
   "version": "3.9.5"
<<<<<<< HEAD
  },
  "toc-showcode": true
=======
  }
>>>>>>> 492591523cd4897cdba5b0b09860e107148bd22c
 },
 "nbformat": 4,
 "nbformat_minor": 5
}
