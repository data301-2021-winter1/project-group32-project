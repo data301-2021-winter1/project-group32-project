{
 "cells": [
  {
   "cell_type": "code",
   "execution_count": 3,
   "id": "a9084a7c-88dc-4ffc-886d-d2d11e37b074",
   "metadata": {},
   "outputs": [
    {
     "name": "stdout",
     "output_type": "stream",
     "text": [
      "         state  year         case_action          case_type      age_group  \\\n",
      "0       Alaska  2020           Ambiguous          G+C+Joint  Adults+Minors   \n",
      "1       Alaska  2019           Ambiguous          G+C+Joint  Adults+Minors   \n",
      "2       Alaska  2018           Ambiguous          G+C+Joint  Adults+Minors   \n",
      "3       Alaska  2017           Ambiguous          G+C+Joint  Adults+Minors   \n",
      "4      Arizona  2020           Ambiguous  Guardianship ONLY    Adults ONLY   \n",
      "..         ...   ...                 ...                ...            ...   \n",
      "375  Wisconsin  2020  Initiated+Reopened          G+C+Joint  Adults+Minors   \n",
      "376  Wisconsin  2019  Initiated+Reopened          G+C+Joint  Adults+Minors   \n",
      "377  Wisconsin  2018  Initiated+Reopened          G+C+Joint  Adults+Minors   \n",
      "378  Wisconsin  2017  Initiated+Reopened          G+C+Joint  Adults+Minors   \n",
      "379  Wisconsin  2016  Initiated+Reopened          G+C+Joint  Adults+Minors   \n",
      "\n",
      "     count for_total  \n",
      "0     1171         Y  \n",
      "1     1084         Y  \n",
      "2     1227         Y  \n",
      "3     1090         Y  \n",
      "4     2520         Y  \n",
      "..     ...       ...  \n",
      "375   5624         Y  \n",
      "376   6051         Y  \n",
      "377   6180         Y  \n",
      "378   6196         Y  \n",
      "379   6030         Y  \n",
      "\n",
      "[380 rows x 7 columns]\n"
     ]
    }
   ],
   "source": [
    "import pandas as pd\n",
    "\n",
    "df = pd.read_csv('filing-counts.csv')\n",
    "print (df)\n"
   ]
  },
  {
   "cell_type": "code",
   "execution_count": null,
   "id": "9bb0d2c3-fd43-4c08-b471-01b88362d704",
   "metadata": {},
   "outputs": [],
   "source": []
  }
 ],
 "metadata": {
  "kernelspec": {
   "display_name": "Python 3 (ipykernel)",
   "language": "python",
   "name": "python3"
  },
  "language_info": {
   "codemirror_mode": {
    "name": "ipython",
    "version": 3
   },
   "file_extension": ".py",
   "mimetype": "text/x-python",
   "name": "python",
   "nbconvert_exporter": "python",
   "pygments_lexer": "ipython3",
   "version": "3.9.5"
  }
 },
 "nbformat": 4,
 "nbformat_minor": 5
}
